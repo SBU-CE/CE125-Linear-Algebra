{
  "nbformat": 4,
  "nbformat_minor": 0,
  "metadata": {
    "colab": {
      "name": "cramer_template.ipynb",
      "provenance": [],
      "collapsed_sections": []
    },
    "kernelspec": {
      "name": "python3",
      "display_name": "Python 3"
    },
    "language_info": {
      "name": "python"
    }
  },
  "cells": [
    {
      "cell_type": "code",
      "metadata": {
        "id": "kMApr9h1hGoc"
      },
      "source": [
        "import re\n",
        "import numpy as np"
      ],
      "execution_count": null,
      "outputs": []
    },
    {
      "cell_type": "code",
      "metadata": {
        "id": "qgxQftmYhOKZ"
      },
      "source": [
        "def parse_equations(num_variables: int, equations: list) -> tuple:\n",
        "    \"\"\"\n",
        "    This function aims to calculate the name of variables, coeficient of variables and biases.\n",
        "    --------------------------------------------------------------------------------------------\n",
        "    TIPS FOR WRITING THIS FUNCTION:\n",
        "    * Spaces are not important.\n",
        "    * Search about how you can find all types of signed numbers in a string by using re.\n",
        "    * Firstly initialize the numpy array with zeros, then fill each of its row by using the last step.\n",
        "    --------------------------------------------------------------------------------------------\n",
        "    Let's assume that the inputs are as below:\n",
        "\n",
        "    num_variables = 4\n",
        "    equations = ['1a + 1b + 2c + 3.5d = 10', '2a - 1b + 5c + 4.5d = 20', '-4a + 12.5b + 7c + 8d = 2', '1a + 6.5b - 8c - 4d = 5']\n",
        "    \n",
        "    the output should be as below:\n",
        "    ['a', 'b', 'c', 'd'] ----- [[1, 1, 2, 3.5], [2, -1, 5, 4.5], [-4, 12.5, 7, 8], [1, 6.5, -8, -4]] ----- [10, 20, 2, 5]\n",
        "    \"\"\"\n",
        "    pass"
      ],
      "execution_count": null,
      "outputs": []
    },
    {
      "cell_type": "code",
      "metadata": {
        "id": "oVOHimv-imyH"
      },
      "source": [
        "def apply_cramer_rule(variables: list, coefitients: np.array, constants: np.array) -> None:\n",
        "    \"\"\"\n",
        "    This functions apply cramer rule by using coefitients and constants.\n",
        "    --------------------------------------------------------------------------------------------\n",
        "    TIPS FOR WRITING THIS FUNCTION:\n",
        "    * Initialize a variable as the denominator of the fractions\n",
        "    * Iterate through the variables and create a matrix which indicates the numerator matrix.\n",
        "    * Apply cramer rule for that variable.\n",
        "    --------------------------------------------------------------------------------------------\n",
        "    \"\"\"\n",
        "    pass"
      ],
      "execution_count": null,
      "outputs": []
    }
  ]
}