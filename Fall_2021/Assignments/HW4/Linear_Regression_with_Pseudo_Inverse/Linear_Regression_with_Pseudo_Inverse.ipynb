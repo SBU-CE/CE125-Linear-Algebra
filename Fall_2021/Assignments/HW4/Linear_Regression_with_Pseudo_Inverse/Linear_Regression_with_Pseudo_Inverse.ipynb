{
 "cells": [
  {
   "cell_type": "markdown",
   "id": "organizational-radio",
   "metadata": {},
   "source": [
    "# Linear Regression with Pseudo Inverse\n",
    "\n",
    "This is the **fourth assignment** of the Linear Algebra course of **Shahid Beheshti University**. In this assignment, we are going to take advantage of the SVD decomposition in one of the **Least square** problems. \n",
    "\n",
    "Follow the steps bellow, some functions are needed to be completed. So just try to fill the blanks and not editing other parts.\n",
    "\n",
    "**Note:** Make sure to sequentially run all the cells, so that the intermediate variables / packages will carry over to the next cell. "
   ]
  },
  {
   "cell_type": "markdown",
   "id": "miniature-egyptian",
   "metadata": {},
   "source": [
    "##  Regression = Curve fitting\n",
    "\n",
    "In real life, there might be times when we want to find a **best-fitting** curve to a set of some given points. \n",
    "For example, people might want to find the relationship between lean body mass of human bodies and their muscle strength or analyze how the housing price changes by years to obtain an estimation of the price in the future. Most of the time, we might not be able to find such a linear equation that can be satisfied by all of those points, so finding a “closest” solution is the best we can do. We call these solution to be the least square solutions. How could we actually find such a **best-fitting curve**?\n",
    "\n",
    "This problem is also known as ***Regression***. If we are eager to find a linear line as best-fitting curve, we name it ***Linear Regression***.\n",
    "\n",
    "<img src=\"images/regression.png\" width=400 height=400 />"
   ]
  },
  {
   "cell_type": "markdown",
   "id": "possible-dining",
   "metadata": {},
   "source": [
    "## Problem definition\n",
    "Suppose given $A$ and $\\vec b$, where $A$ is a $m\\times n$ matrix and $\\vec{b} \\in \\Re ^{m}$ , we want to find $\\vec x$ such that $A\\vec x$ is closest to $\\vec b$. In order words, find $\\vec x$ such that\n",
    "\n",
    "\n",
    "$\\min{}_{x∈R^{n}}||A\\overrightarrow{x}-\\overrightarrow{b}||_{2}$.\n",
    "\n",
    "$\\vec x$ is called the least square solution to the equation $A\\vec x=\\vec{b}$.\n",
    "\n",
    "\n",
    "**Pseudoinverse of a Matrix**: Suppose $M$ is an $m\\times n$ matrix and the singular-value decomposition of $M$ is given by $UΣV^T$, then the ***pseudoinverse*** of $M$ is given by:\n",
    "\n",
    "$M^{+}=VΣ^{+}U^T$,\n",
    "\n",
    "where $Σ^{+}$ is from taking the transpose of $Σ$ and taking the numerical inverse of all the non-zero entries at $i^{th}$ row and $i^{th}$ column of every $i$.\n",
    "\n",
    "**Theorem**: Suppose given $A$ and $\\vec b$, where $A$ is a $m\\times n$ matrix and $\\vec b$ in $R^m$, then \n",
    "\n",
    "$\\vec{x}=A^{+}\\vec{b}$\n",
    "\n",
    "is the least sqaure solution to $A\\vec x=\\vec{b}$."
   ]
  },
  {
   "cell_type": "code",
   "execution_count": 195,
   "id": "unable-rouge",
   "metadata": {},
   "outputs": [],
   "source": [
    "import numpy as np\n",
    "import scipy\n",
    "from PIL import Image\n",
    "import imageio\n",
    "import moviepy.editor as mpe\n",
    "from moviepy.video.io.bindings import mplfig_to_npimage\n",
    "import matplotlib.pyplot as plt\n",
    "%matplotlib inline"
   ]
  },
  {
   "cell_type": "markdown",
   "id": "public-influence",
   "metadata": {},
   "source": [
    "## 2. Create Matrix M"
   ]
  },
  {
   "cell_type": "markdown",
   "id": "comfortable-muscle",
   "metadata": {},
   "source": [
    "## 4. Submission\n",
    "\n",
    "Please read the notes here carefully:\n",
    "\n",
    "1. The outputs of the codes must be remained the notebook. If not, you will lose points.\n",
    "2. You must **only** upload  **3 files**:\n",
    "\n",
    "    - `Remove_Video_Background_with_SVD.ipynb`\n",
    "    - `moving_part.mp4`\n",
    "    - `background.mp4`\n",
    "    \n",
    "    \n",
    "In case you have any questions, contact **mohammad99hashemi@gmail.com**"
   ]
  }
 ],
 "metadata": {
  "kernelspec": {
   "display_name": "Python 3",
   "language": "python",
   "name": "python3"
  },
  "language_info": {
   "codemirror_mode": {
    "name": "ipython",
    "version": 3
   },
   "file_extension": ".py",
   "mimetype": "text/x-python",
   "name": "python",
   "nbconvert_exporter": "python",
   "pygments_lexer": "ipython3",
   "version": "3.9.5"
  }
 },
 "nbformat": 4,
 "nbformat_minor": 5
}
