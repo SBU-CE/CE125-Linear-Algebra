{
  "nbformat": 4,
  "nbformat_minor": 0,
  "metadata": {
    "colab": {
      "name": "LA - HW02 - 99243069.ipynb",
      "provenance": [],
      "collapsed_sections": [
        "ZZcbKnhXxhRK"
      ]
    },
    "kernelspec": {
      "name": "python3",
      "display_name": "Python 3"
    },
    "language_info": {
      "name": "python"
    }
  },
  "cells": [
    {
      "cell_type": "markdown",
      "source": [
        "## **Linear Algebra - Dr. Malek**\n",
        "Amir Hossein Mansoori - Student No. 92943069 - Computer Assignment #02"
      ],
      "metadata": {
        "id": "7PoGaqJ0eYXz"
      }
    },
    {
      "cell_type": "markdown",
      "source": [
        "## Part 1"
      ],
      "metadata": {
        "id": "ZZcbKnhXxhRK"
      }
    },
    {
      "cell_type": "markdown",
      "source": [
        "First, we import the required modules:"
      ],
      "metadata": {
        "id": "XNO_C4iTenxi"
      }
    },
    {
      "cell_type": "code",
      "execution_count": null,
      "metadata": {
        "id": "U1XnRQcrMNE3"
      },
      "outputs": [],
      "source": [
        "import numpy as np"
      ]
    },
    {
      "cell_type": "markdown",
      "source": [
        "The we compute different powers of $A$ (from 1 to 10):"
      ],
      "metadata": {
        "id": "RLdAj7d8etqU"
      }
    },
    {
      "cell_type": "code",
      "source": [
        "a = np.array([[0, 1], [1, 1]])\n",
        "n = 10\n",
        "\n",
        "a_power = [np.linalg.matrix_power(a, i) for i in range(1, n+1)]\n",
        "\n",
        "print(*a_power, sep='\\n\\n')"
      ],
      "metadata": {
        "id": "0WA6rFhuMU4h",
        "colab": {
          "base_uri": "https://localhost:8080/"
        },
        "outputId": "e75dc899-af1f-4d6c-f631-6074fa8337d9"
      },
      "execution_count": null,
      "outputs": [
        {
          "output_type": "stream",
          "name": "stdout",
          "text": [
            "[[0 1]\n",
            " [1 1]]\n",
            "\n",
            "[[1 1]\n",
            " [1 2]]\n",
            "\n",
            "[[1 2]\n",
            " [2 3]]\n",
            "\n",
            "[[2 3]\n",
            " [3 5]]\n",
            "\n",
            "[[3 5]\n",
            " [5 8]]\n",
            "\n",
            "[[ 5  8]\n",
            " [ 8 13]]\n",
            "\n",
            "[[ 8 13]\n",
            " [13 21]]\n",
            "\n",
            "[[13 21]\n",
            " [21 34]]\n",
            "\n",
            "[[21 34]\n",
            " [34 55]]\n",
            "\n",
            "[[34 55]\n",
            " [55 89]]\n"
          ]
        }
      ]
    },
    {
      "cell_type": "markdown",
      "source": [
        "It appears that\n",
        "$\n",
        "A^m = \\begin{bmatrix}\n",
        "Fib(m-1) & Fib(m) \\\\\n",
        "Fib(m) & Fib(m + 1)\n",
        "\\end{bmatrix}\n",
        "$,\n",
        "where $Fib(n) = Fib(n - 1) + Fib(n - 2), Fib(0) = 0, Fib(1) = 1$."
      ],
      "metadata": {
        "id": "YnpegknVNY4V"
      }
    },
    {
      "cell_type": "markdown",
      "source": [
        "## Part 2\n",
        "\n",
        "First, we compute $A^{10}$ directly:"
      ],
      "metadata": {
        "id": "BUmP5ih0x1on"
      }
    },
    {
      "cell_type": "code",
      "source": [
        "a_10 = np.linalg.matrix_power(a, 10)\n",
        "\n",
        "print('A^10 = ', a_10)"
      ],
      "metadata": {
        "colab": {
          "base_uri": "https://localhost:8080/"
        },
        "id": "RmjM-0N_yDXb",
        "outputId": "91d44c7e-ce3a-424e-be4b-83eb5e7d5605"
      },
      "execution_count": null,
      "outputs": [
        {
          "output_type": "stream",
          "name": "stdout",
          "text": [
            "A^10 =  [[34 55]\n",
            " [55 89]]\n"
          ]
        }
      ]
    },
    {
      "cell_type": "markdown",
      "source": [
        "Now to calculate $A^{10}$ using eigenvalues: We start by calulating eigenvalues from given eigenvectors:\n",
        "\n",
        "$Av_1 = \n",
        "\\begin{bmatrix}\n",
        "0 & 1 \\\\\n",
        "1 & 1\n",
        "\\end{bmatrix}\n",
        "\\begin{bmatrix}\n",
        "2 \\\\\n",
        "1 + \\sqrt{5}\n",
        "\\end{bmatrix}\n",
        "=\n",
        "\\lambda_1 v_1\n",
        "$"
      ],
      "metadata": {
        "id": "TmP24_0PyVOy"
      }
    },
    {
      "cell_type": "code",
      "source": [
        "v_1 = np.array([[2], [1 + (5 ** 0.5)]])\n",
        "a_v1 = np.matmul(a, v_1)\n",
        "\n",
        "print('A * v1 = ', a_v1)\n",
        "\n",
        "lambda_1 = a_v1[0][0] / v_1[0][0]\n",
        "\n",
        "print('lambda_1 = ', lambda_1)"
      ],
      "metadata": {
        "colab": {
          "base_uri": "https://localhost:8080/"
        },
        "id": "UuueS7k-VU2W",
        "outputId": "d395d379-d389-4934-975b-052082604095"
      },
      "execution_count": null,
      "outputs": [
        {
          "output_type": "stream",
          "name": "stdout",
          "text": [
            "A * v1 =  [[3.23606798]\n",
            " [5.23606798]]\n",
            "lambda_1 =  1.618033988749895\n"
          ]
        }
      ]
    },
    {
      "cell_type": "markdown",
      "source": [
        "$\n",
        "\\Rightarrow \\lambda_1 \\approx 1.618\n",
        "$\n",
        "\n",
        "Now for $\\lambda_2$:"
      ],
      "metadata": {
        "id": "eqT_5i1vWh-Z"
      }
    },
    {
      "cell_type": "code",
      "source": [
        "v_2 = np.array([[2], [1 - (5 ** 0.5)]])\n",
        "a_v2 = np.matmul(a, v_2)\n",
        "\n",
        "print('A * v2 = ', a_v2)\n",
        "\n",
        "lambda_2 = a_v2[0][0] / v_2[0][0]\n",
        "\n",
        "print('lambda_2 = ', lambda_2)"
      ],
      "metadata": {
        "colab": {
          "base_uri": "https://localhost:8080/"
        },
        "id": "7R-T1hR5Ws_5",
        "outputId": "10632ead-e5b4-4c0f-c2d5-b7b7b1204551"
      },
      "execution_count": null,
      "outputs": [
        {
          "output_type": "stream",
          "name": "stdout",
          "text": [
            "A * v2 =  [[-1.23606798]\n",
            " [ 0.76393202]]\n",
            "lambda_2 =  -0.6180339887498949\n"
          ]
        }
      ]
    },
    {
      "cell_type": "markdown",
      "source": [
        "$\n",
        "\\Rightarrow \\lambda_2 \\approx -0.618\n",
        "$"
      ],
      "metadata": {
        "id": "iLzo29xCW94R"
      }
    },
    {
      "cell_type": "markdown",
      "source": [
        "Now we form the diagnolized matrix:\n",
        "\n",
        "$A = PDP^{-1} \\Rightarrow A^{10} = PD^{10}P^{-1}\n",
        "=\n",
        "\\begin{bmatrix}\n",
        "2 & 2 \\\\\n",
        "1 + \\sqrt{5} & 1 - \\sqrt{5}\n",
        "\\end{bmatrix}\n",
        "\\begin{bmatrix}\n",
        "\\lambda_1 & 0 \\\\\n",
        "0 & \\lambda_2\n",
        "\\end{bmatrix}^{10}\n",
        "\\begin{bmatrix}\n",
        "2 & 2 \\\\\n",
        "1 + \\sqrt{5} & 1 - \\sqrt{5}\n",
        "\\end{bmatrix}^{-1}\n",
        "$"
      ],
      "metadata": {
        "id": "OCN2B3n6XP1K"
      }
    },
    {
      "cell_type": "code",
      "source": [
        "p = np.column_stack([v_1, v_2])\n",
        "print('P = ', p)\n",
        "print()\n",
        "\n",
        "d = np.array([[lambda_1, 0], [0, lambda_2]])\n",
        "d_10 = d ** 10 # memberwise power\n",
        "\n",
        "p_inverse = np.linalg.inv(p)\n",
        "\n",
        "a_10_diagnolized = np.matmul(np.matmul(p, d_10), p_inverse)\n",
        "\n",
        "print('A^10 = ', a_10_diagnolized)"
      ],
      "metadata": {
        "id": "DJitGTdnXPLz",
        "colab": {
          "base_uri": "https://localhost:8080/"
        },
        "outputId": "f81c9a24-29a8-4819-e926-bb9e556c0ffc"
      },
      "execution_count": null,
      "outputs": [
        {
          "output_type": "stream",
          "name": "stdout",
          "text": [
            "P =  [[ 2.          2.        ]\n",
            " [ 3.23606798 -1.23606798]]\n",
            "\n",
            "A^10 =  [[34. 55.]\n",
            " [55. 89.]]\n"
          ]
        }
      ]
    },
    {
      "cell_type": "markdown",
      "source": [
        "This shows that diagonalization can be effectively used to quickly compute powers of a matrix."
      ],
      "metadata": {
        "id": "U8tiYxGI-baY"
      }
    }
  ]
}