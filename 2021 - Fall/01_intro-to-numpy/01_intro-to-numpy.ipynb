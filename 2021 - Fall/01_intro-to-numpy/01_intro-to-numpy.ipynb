{
 "cells": [
  {
   "cell_type": "markdown",
   "id": "noted-shooting",
   "metadata": {},
   "source": [
    "# Introduction to NumPy\n",
    "\n",
    "### NumPy: A Python Library for Scientific Computing\n",
    "\n",
    "\n",
    "The reference material for this notebook can be found in the [NumPy documentation](https://numpy.org/doc/stable/user/quickstart.html)."
   ]
  },
  {
   "cell_type": "code",
   "execution_count": 1,
   "id": "israeli-dylan",
   "metadata": {},
   "outputs": [],
   "source": [
    "# import numpy library\n",
    "import numpy as np"
   ]
  },
  {
   "cell_type": "markdown",
   "id": "latin-granny",
   "metadata": {},
   "source": [
    "## The Basics"
   ]
  },
  {
   "cell_type": "markdown",
   "id": "ordinary-cleaning",
   "metadata": {},
   "source": [
    "NumPy’s main object is the homogeneous multidimensional array. It is a table of elements (usually numbers), all of the same type, indexed by a tuple of non-negative integers. In NumPy dimensions are called **axes**.\n",
    "\n",
    "For example, the coordinates of a point in 3D space [1, 2, 1] has one axis. That axis has 3 elements in it, so we say it has a length of 3. In the example pictured below, the array has 2 axes. The first axis has a length of 2, the second axis has a length of 3."
   ]
  },
  {
   "cell_type": "code",
   "execution_count": 2,
   "id": "preliminary-wagner",
   "metadata": {},
   "outputs": [
    {
     "data": {
      "text/plain": [
       "array([[1, 0, 0],\n",
       "       [0, 1, 2]])"
      ]
     },
     "execution_count": 2,
     "metadata": {},
     "output_type": "execute_result"
    }
   ],
   "source": [
    "# create a sample numpy array\n",
    "np.array([[1, 0, 0],\n",
    "          [0, 1, 2]])"
   ]
  },
  {
   "cell_type": "code",
   "execution_count": 4,
   "id": "outdoor-rolling",
   "metadata": {},
   "outputs": [
    {
     "data": {
      "text/plain": [
       "array([[ 0,  1,  2,  3,  4],\n",
       "       [ 5,  6,  7,  8,  9],\n",
       "       [10, 11, 12, 13, 14]])"
      ]
     },
     "execution_count": 4,
     "metadata": {},
     "output_type": "execute_result"
    }
   ],
   "source": [
    "# create a 3x5 numpy array with values in [0, 14]\n",
    "a = np.arange(15).reshape(3, 5)\n",
    "a"
   ]
  },
  {
   "cell_type": "code",
   "execution_count": 6,
   "id": "developed-produce",
   "metadata": {},
   "outputs": [
    {
     "data": {
      "text/plain": [
       "array([ 0,  1,  4,  9, 16, 25, 36, 49, 64, 81])"
      ]
     },
     "execution_count": 6,
     "metadata": {},
     "output_type": "execute_result"
    }
   ],
   "source": [
    "# create a numpy array of squares of numbers in the range of [0, 10)\n",
    "squares = np.array([x**2 for x in range(10)])\n",
    "squares"
   ]
  },
  {
   "cell_type": "code",
   "execution_count": 7,
   "id": "ancient-portsmouth",
   "metadata": {},
   "outputs": [
    {
     "data": {
      "text/plain": [
       "numpy.ndarray"
      ]
     },
     "execution_count": 7,
     "metadata": {},
     "output_type": "execute_result"
    }
   ],
   "source": [
    "# see the type of the `squares` numpy array\n",
    "type(squares) "
   ]
  },
  {
   "cell_type": "markdown",
   "id": "discrete-surname",
   "metadata": {},
   "source": [
    "NumPy’s array class is called ndarray. It is also known by the alias array. **Note that numpy.array is not the same as the Standard Python Library class array.array**, which only handles one-dimensional arrays and offers less functionality. The more important attributes of an ndarray object are:"
   ]
  },
  {
   "cell_type": "code",
   "execution_count": 9,
   "id": "circular-editing",
   "metadata": {},
   "outputs": [
    {
     "data": {
      "text/plain": [
       "dtype('int64')"
      ]
     },
     "execution_count": 9,
     "metadata": {},
     "output_type": "execute_result"
    }
   ],
   "source": [
    "# some of the useful np.array attributes\n",
    "\n",
    "# 1. the dimensions of the array.\n",
    "a.shape\n",
    "# 2. the number of axes (dimensions) of the array.\n",
    "a.ndim\n",
    "# 3. the total number of elements of the array\n",
    "a.size\n",
    "# 4. an object describing the type of the elements in the array.\n",
    "a.dtype"
   ]
  },
  {
   "cell_type": "markdown",
   "id": "sticky-judgment",
   "metadata": {},
   "source": [
    "## Array Creation\n",
    "There are several ways to create arrays.\n",
    "\n",
    "For example, you can create an array from a regular Python list or tuple using the array function. The type of the resulting array is deduced from the type of the elements in the sequences."
   ]
  },
  {
   "cell_type": "code",
   "execution_count": null,
   "id": "sound-ferry",
   "metadata": {},
   "outputs": [],
   "source": [
    "# create a numpy array from a python list\n",
    "a = np.array([2, 3, 4])\n",
    "# create a numpy array from a python list using loops\n",
    "squares = [x**3 for x in range(10)]"
   ]
  },
  {
   "cell_type": "code",
   "execution_count": 16,
   "id": "minute-halifax",
   "metadata": {},
   "outputs": [
    {
     "name": "stdout",
     "output_type": "stream",
     "text": [
      "<class 'list'>\n",
      "<class 'tuple'>\n",
      "<class 'set'>\n",
      "[0, 1, 4, 9, 16, 25, 36, 49, 64, 81]\n",
      "(0, 1, 8, 27, 64, 125, 216, 343, 512, 729)\n",
      "{0, 2, 4, 6, 8}\n"
     ]
    }
   ],
   "source": [
    "# python list -> numpy array\n",
    "squares = [x**2 for x in range(10)]\n",
    "# python tuple -> numpy array\n",
    "cubes = tuple(x**3 for x in range(10))\n",
    "# python set -> numpy array\n",
    "evens = {x for x in range(10) if x%2 == 0}  \n",
    "\n",
    "print(type(squares))\n",
    "print(type(cubes))\n",
    "print(type(evens))\n",
    "\n",
    "print(squares)\n",
    "print(cubes)\n",
    "print(evens)"
   ]
  },
  {
   "cell_type": "code",
   "execution_count": 18,
   "id": "stuck-ready",
   "metadata": {},
   "outputs": [
    {
     "name": "stdout",
     "output_type": "stream",
     "text": [
      "[ 0  1  4  9 16 25 36 49 64 81]\n",
      "[  0   1   8  27  64 125 216 343 512 729]\n",
      "{0, 2, 4, 6, 8}\n"
     ]
    }
   ],
   "source": [
    "# now, lets transform them to numpy arrays\n",
    "a = np.array(squares)\n",
    "b = np.array(cubes)\n",
    "c = np.array(evens)\n",
    "\n",
    "print(a)\n",
    "print(b)\n",
    "print(c)"
   ]
  },
  {
   "cell_type": "code",
   "execution_count": 25,
   "id": "manufactured-facility",
   "metadata": {},
   "outputs": [
    {
     "name": "stdout",
     "output_type": "stream",
     "text": [
      "[[  0   0   0]\n",
      " [  1   1   1]\n",
      " [  2   4   8]\n",
      " [  3   9  27]\n",
      " [  4  16  64]\n",
      " [  5  25 125]\n",
      " [  6  36 216]\n",
      " [  7  49 343]\n",
      " [  8  64 512]\n",
      " [  9  81 729]]\n",
      "2\n"
     ]
    }
   ],
   "source": [
    "# create array from nested lists of depth 2\n",
    "seq1 = [[x, x**2, x**3] for x in range(10)]\n",
    "\n",
    "a = np.array(seq1)\n",
    "print(a)\n",
    "print(a.ndim)"
   ]
  },
  {
   "cell_type": "code",
   "execution_count": 29,
   "id": "political-import",
   "metadata": {},
   "outputs": [
    {
     "name": "stdout",
     "output_type": "stream",
     "text": [
      "[[0 0 0]\n",
      " [0 0 0]\n",
      " [0 0 0]] int32\n",
      "[[1 1]\n",
      " [1 1]] int32\n"
     ]
    }
   ],
   "source": [
    "# create a 3x3 arrary of 0's\n",
    "zeros = np.zeros((3, 3), dtype=np.int32)\n",
    "# create a 2x2 array of 1's\n",
    "ones = np.ones((2, 2), dtype=np.int32)\n",
    "\n",
    "print(zeros, zeros.dtype.name)\n",
    "print(ones, ones.dtype.name)"
   ]
  },
  {
   "cell_type": "code",
   "execution_count": 30,
   "id": "right-valentine",
   "metadata": {},
   "outputs": [
    {
     "data": {
      "text/plain": [
       "array([ 5, 10, 15, 20, 25])"
      ]
     },
     "execution_count": 30,
     "metadata": {},
     "output_type": "execute_result"
    }
   ],
   "source": [
    "# create an array from range [5, 30] with step of 5\n",
    "np.arange(5, 30, 5)"
   ]
  },
  {
   "cell_type": "code",
   "execution_count": 32,
   "id": "parental-conservation",
   "metadata": {},
   "outputs": [
    {
     "data": {
      "text/plain": [
       "array([0.        , 0.01010101, 0.02020202, 0.03030303, 0.04040404,\n",
       "       0.05050505, 0.06060606, 0.07070707, 0.08080808, 0.09090909,\n",
       "       0.1010101 , 0.11111111, 0.12121212, 0.13131313, 0.14141414,\n",
       "       0.15151515, 0.16161616, 0.17171717, 0.18181818, 0.19191919,\n",
       "       0.2020202 , 0.21212121, 0.22222222, 0.23232323, 0.24242424,\n",
       "       0.25252525, 0.26262626, 0.27272727, 0.28282828, 0.29292929,\n",
       "       0.3030303 , 0.31313131, 0.32323232, 0.33333333, 0.34343434,\n",
       "       0.35353535, 0.36363636, 0.37373737, 0.38383838, 0.39393939,\n",
       "       0.4040404 , 0.41414141, 0.42424242, 0.43434343, 0.44444444,\n",
       "       0.45454545, 0.46464646, 0.47474747, 0.48484848, 0.49494949,\n",
       "       0.50505051, 0.51515152, 0.52525253, 0.53535354, 0.54545455,\n",
       "       0.55555556, 0.56565657, 0.57575758, 0.58585859, 0.5959596 ,\n",
       "       0.60606061, 0.61616162, 0.62626263, 0.63636364, 0.64646465,\n",
       "       0.65656566, 0.66666667, 0.67676768, 0.68686869, 0.6969697 ,\n",
       "       0.70707071, 0.71717172, 0.72727273, 0.73737374, 0.74747475,\n",
       "       0.75757576, 0.76767677, 0.77777778, 0.78787879, 0.7979798 ,\n",
       "       0.80808081, 0.81818182, 0.82828283, 0.83838384, 0.84848485,\n",
       "       0.85858586, 0.86868687, 0.87878788, 0.88888889, 0.8989899 ,\n",
       "       0.90909091, 0.91919192, 0.92929293, 0.93939394, 0.94949495,\n",
       "       0.95959596, 0.96969697, 0.97979798, 0.98989899, 1.        ])"
      ]
     },
     "execution_count": 32,
     "metadata": {},
     "output_type": "execute_result"
    }
   ],
   "source": [
    "# create array of 100 values between 0 and 1\n",
    "np.linspace(0, 1, 100)"
   ]
  },
  {
   "cell_type": "code",
   "execution_count": 36,
   "id": "color-moral",
   "metadata": {},
   "outputs": [
    {
     "data": {
      "text/plain": [
       "array([[0, 1, 2],\n",
       "       [2, 3, 4],\n",
       "       [4, 5, 6]])"
      ]
     },
     "execution_count": 36,
     "metadata": {},
     "output_type": "execute_result"
    }
   ],
   "source": [
    "# create an array from a function\n",
    "\n",
    "def f(row_num, col_num):\n",
    "    return 2*row_num + col_num\n",
    "\n",
    "F = np.fromfunction(f, (3, 3), dtype=int)\n",
    "F"
   ]
  },
  {
   "cell_type": "markdown",
   "id": "dressed-burning",
   "metadata": {},
   "source": [
    "## Printing Array"
   ]
  },
  {
   "cell_type": "markdown",
   "id": "single-houston",
   "metadata": {},
   "source": [
    "When you print an array, NumPy displays it in a similar way to nested lists, but with the following layout:\n",
    "\n",
    "1. the last axis is printed from left to right,\n",
    "2. the second-to-last is printed from top to bottom,\n",
    "3. the rest are also printed from top to bottom, with each slice separated from the next by an empty line.\n",
    "\n",
    "One-dimensional arrays are then printed as rows, bidimensionals as matrices and tridimensionals as lists of matrices."
   ]
  },
  {
   "cell_type": "code",
   "execution_count": 37,
   "id": "indian-european",
   "metadata": {},
   "outputs": [
    {
     "name": "stdout",
     "output_type": "stream",
     "text": [
      "[ 0  1  2  3  4  5  6  7  8  9 10 11 12 13 14]\t[1x15]\n",
      "\n",
      "[[ 0  1  2  3  4]\n",
      " [ 5  6  7  8  9]\n",
      " [10 11 12 13 14]]\t[3x5]\n",
      "\n",
      "[[[ 0  1  2  3]\n",
      "  [ 4  5  6  7]\n",
      "  [ 8  9 10 11]]\n",
      "\n",
      " [[12 13 14 15]\n",
      "  [16 17 18 19]\n",
      "  [20 21 22 23]]]\t[2x3x4]"
     ]
    }
   ],
   "source": [
    "dim1 = np.arange(15)                   # Create 1 1x15 matrix;  n=1\n",
    "dim2 = np.arange(15).reshape(3, 5)     # Create 1 3x5 matrix;   n=2\n",
    "dim3 = np.arange(24).reshape(2, 3, 4)  # Create 2 3x4 matrices; n=3\n",
    "\n",
    "print(dim1, end='\\t[1x15]\\n\\n')\n",
    "print(dim2, end='\\t[3x5]\\n\\n')\n",
    "print(dim3, end='\\t[2x3x4]')"
   ]
  },
  {
   "cell_type": "markdown",
   "id": "intellectual-thousand",
   "metadata": {},
   "source": [
    "## Basic Operations\n",
    "\n",
    "Arithmetic operators on arrays apply *elementwise*. A new array is created and filled with the result."
   ]
  },
  {
   "cell_type": "code",
   "execution_count": 45,
   "id": "tough-drama",
   "metadata": {},
   "outputs": [
    {
     "data": {
      "text/plain": [
       "array([-2., -1.,  0.,  1.,  2.,  3.,  4.,  5.,  6.,  7.])"
      ]
     },
     "execution_count": 45,
     "metadata": {},
     "output_type": "execute_result"
    }
   ],
   "source": [
    "# let a be the array of numbers in the range of [0, 10)\n",
    "a = np.arange(10)\n",
    "# let b an array of 2's with the length of 10\n",
    "b = 2 * np.ones((10,))\n",
    "# now subtract b from a \n",
    "\n",
    "result = a - b\n",
    "result"
   ]
  },
  {
   "cell_type": "code",
   "execution_count": 46,
   "id": "infectious-defeat",
   "metadata": {},
   "outputs": [
    {
     "data": {
      "text/plain": [
       "array([ True,  True, False, False, False, False, False, False, False,\n",
       "       False])"
      ]
     },
     "execution_count": 46,
     "metadata": {},
     "output_type": "execute_result"
    }
   ],
   "source": [
    "result < 0"
   ]
  },
  {
   "cell_type": "code",
   "execution_count": 47,
   "id": "suitable-adaptation",
   "metadata": {},
   "outputs": [
    {
     "name": "stdout",
     "output_type": "stream",
     "text": [
      "[[10. 10. 10. 10. 10.]\n",
      " [10. 10. 10. 10. 10.]\n",
      " [10. 10. 10. 10. 10.]]\n",
      "\n",
      "[[5. 5. 5.]\n",
      " [5. 5. 5.]\n",
      " [5. 5. 5.]]\n",
      "\n",
      "[[5. 5. 5.]\n",
      " [5. 5. 5.]\n",
      " [5. 5. 5.]]\n"
     ]
    }
   ],
   "source": [
    "# element-wise multipication\n",
    "a = np.ones(15).reshape(3, 5)\n",
    "b = np.ones(15).reshape(5, 3)\n",
    "\n",
    "mult = a * 10            # element-wise multiplication\n",
    "dot_prod1 = a.dot(b)     # dot product version 1\n",
    "dot_prod2 = np.dot(a, b) # dot product version 2\n",
    "\n",
    "print(mult, end='\\n\\n')\n",
    "print(dot_prod1, end='\\n\\n')\n",
    "print(dot_prod2)"
   ]
  },
  {
   "cell_type": "code",
   "execution_count": 48,
   "id": "educated-midnight",
   "metadata": {},
   "outputs": [
    {
     "name": "stdout",
     "output_type": "stream",
     "text": [
      "Sum: 55\n",
      "Min: 1\n",
      "Max: 10\n"
     ]
    }
   ],
   "source": [
    "# useful array methods\n",
    "\n",
    "a = np.arange(1, 11)\n",
    "\n",
    "print('Sum:', a.sum())\n",
    "print('Min:', a.min())\n",
    "print('Max:', a.max())"
   ]
  },
  {
   "cell_type": "code",
   "execution_count": 49,
   "id": "accurate-particle",
   "metadata": {},
   "outputs": [
    {
     "name": "stdout",
     "output_type": "stream",
     "text": [
      "[18 21 24 27 30]\n",
      "[ 1  6 11]\n"
     ]
    },
    {
     "data": {
      "text/plain": [
       "array([[ 1,  2,  3,  4,  5],\n",
       "       [ 6,  7,  8,  9, 10],\n",
       "       [11, 12, 13, 14, 15]])"
      ]
     },
     "execution_count": 49,
     "metadata": {},
     "output_type": "execute_result"
    }
   ],
   "source": [
    "# applying methods to a single axis\n",
    "a = np.arange(15).reshape(3, 5) + 1\n",
    "\n",
    "# sum of each column\n",
    "print(a.sum(axis=0)) \n",
    "# min of each row\n",
    "print(a.min(axis=1)) \n",
    "a"
   ]
  },
  {
   "cell_type": "markdown",
   "id": "necessary-volunteer",
   "metadata": {},
   "source": [
    "## Universal Functions\n",
    "NumPy provides familiar mathematical functions such as sin, cos, and exp. In NumPy, these are called “universal functions” (ufunc). Within NumPy, these functions operate elementwise on an array, producing an array as output."
   ]
  },
  {
   "cell_type": "code",
   "execution_count": 52,
   "id": "excellent-condition",
   "metadata": {},
   "outputs": [
    {
     "name": "stdout",
     "output_type": "stream",
     "text": [
      "[ 0.00000000e+00  6.28381328e-04  1.25676241e-03 ... -1.25676241e-03\n",
      " -6.28381328e-04 -2.44929360e-16]\n",
      "\n",
      "[0.         0.02506754 0.03545085 ... 2.50637757 2.50650293 2.50662827]\n",
      "\n",
      "[  1.           1.00062858   1.00125755 ... 534.81909228 535.15526825\n",
      " 535.49165552]\n",
      "\n"
     ]
    }
   ],
   "source": [
    "from numpy import pi\n",
    "\n",
    "# universal functions (sin, cos, exp, sqrt, ... etc)\n",
    "\n",
    "\n",
    "a = np.linspace(0, 2*pi, 10000)\n",
    "\n",
    "sin_a = np.sin(a)\n",
    "sqrt_a = np.sqrt(a)\n",
    "exp_a = np.exp(a)\n",
    "\n",
    "print(sin_a, end='\\n\\n')\n",
    "print(sqrt_a, end='\\n\\n')\n",
    "print(exp_a, end='\\n\\n')"
   ]
  },
  {
   "cell_type": "markdown",
   "id": "legal-paraguay",
   "metadata": {},
   "source": [
    "## Indexing, slicing and iterating"
   ]
  },
  {
   "cell_type": "code",
   "execution_count": 55,
   "id": "major-balance",
   "metadata": {},
   "outputs": [
    {
     "name": "stdout",
     "output_type": "stream",
     "text": [
      "[[  1   4   9  16  25]\n",
      " [ 36  49  64  81 100]]\n",
      "[ 1  4  9 16 25]\n",
      "[ 36  49  64  81 100]\n",
      "1\n"
     ]
    }
   ],
   "source": [
    "# indexing elements from multidimentional arrays\n",
    "\n",
    "a = np.array([x**2 for x in range(1, 11)]).reshape(2, 5)\n",
    "\n",
    "print (a)\n",
    "# get the first row\n",
    "print(a[0])\n",
    "# get the last element\n",
    "print(a[-1])\n",
    "# get the (i,j)th element\n",
    "print(a[0][0])"
   ]
  },
  {
   "cell_type": "code",
   "execution_count": 56,
   "id": "thousand-jewelry",
   "metadata": {},
   "outputs": [
    {
     "name": "stdout",
     "output_type": "stream",
     "text": [
      "[[   1    8   27]\n",
      " [  64  125  216]\n",
      " [ 343  512  729]\n",
      " [1000 1331 1728]]\n",
      "[   1   64  343 1000]\n",
      "[ 1  8 27]\n"
     ]
    }
   ],
   "source": [
    "# slicing numpy arrays\n",
    "cubes = np.arange(1, 13).reshape(4, 3)**3\n",
    "\n",
    "# all rows all columns\n",
    "print(cubes[:, :])\n",
    "# first col\n",
    "print(cubes[:, 0])\n",
    "# first row\n",
    "print(cubes[0, :])"
   ]
  },
  {
   "cell_type": "code",
   "execution_count": 57,
   "id": "administrative-vehicle",
   "metadata": {},
   "outputs": [
    {
     "data": {
      "text/plain": [
       "array([ 1,  2,  3,  4,  5,  6,  7,  8,  9, 10])"
      ]
     },
     "execution_count": 57,
     "metadata": {},
     "output_type": "execute_result"
    }
   ],
   "source": [
    "# iterating through arrays elements\n",
    "a = np.array([x+1 for x in range(10)])\n",
    "a"
   ]
  },
  {
   "cell_type": "code",
   "execution_count": 59,
   "id": "round-exclusion",
   "metadata": {},
   "outputs": [
    {
     "name": "stdout",
     "output_type": "stream",
     "text": [
      "1, 2, 3, 4, 5, 6, 7, 8, 9, 10, "
     ]
    }
   ],
   "source": [
    "for element in a:\n",
    "    print(element, end=', ')\n",
    "        "
   ]
  },
  {
   "cell_type": "code",
   "execution_count": 62,
   "id": "genuine-banks",
   "metadata": {},
   "outputs": [
    {
     "name": "stdout",
     "output_type": "stream",
     "text": [
      "1, 2, 3, 4, 5, 6, 7, 8, 9, 10, "
     ]
    }
   ],
   "source": [
    "# flatting a 5x5x5 array for iterating\n",
    "for el in a.flat:\n",
    "    print(el, end=', ')"
   ]
  },
  {
   "cell_type": "markdown",
   "id": "headed-worst",
   "metadata": {},
   "source": [
    "## Shape Manipulation\n",
    "Changing the shape of an array.\n",
    "\n",
    "An array has a shape given by the number of elements along each axis:"
   ]
  },
  {
   "cell_type": "code",
   "execution_count": 66,
   "id": "cubic-mathematics",
   "metadata": {},
   "outputs": [
    {
     "data": {
      "text/plain": [
       "array([[5., 6., 6., 9.],\n",
       "       [4., 1., 4., 9.],\n",
       "       [0., 1., 1., 1.]])"
      ]
     },
     "execution_count": 66,
     "metadata": {},
     "output_type": "execute_result"
    }
   ],
   "source": [
    "# create a random array of shape 3x4\n",
    "a = np.floor(10*np.random.random((3, 4)))\n",
    "a"
   ]
  },
  {
   "cell_type": "code",
   "execution_count": 67,
   "id": "signed-annual",
   "metadata": {},
   "outputs": [
    {
     "data": {
      "text/plain": [
       "array([5., 6., 6., 9., 4., 1., 4., 9., 0., 1., 1., 1.])"
      ]
     },
     "execution_count": 67,
     "metadata": {},
     "output_type": "execute_result"
    }
   ],
   "source": [
    "# return a copy of the array flattened\n",
    "a.ravel()"
   ]
  },
  {
   "cell_type": "code",
   "execution_count": 68,
   "id": "unknown-fifth",
   "metadata": {},
   "outputs": [
    {
     "data": {
      "text/plain": [
       "array([[5., 6.],\n",
       "       [6., 9.],\n",
       "       [4., 1.],\n",
       "       [4., 9.],\n",
       "       [0., 1.],\n",
       "       [1., 1.]])"
      ]
     },
     "execution_count": 68,
     "metadata": {},
     "output_type": "execute_result"
    }
   ],
   "source": [
    "# change the shape of the array to a 2x6 matrix\n",
    "a.reshape(6, 2)"
   ]
  },
  {
   "cell_type": "code",
   "execution_count": 69,
   "id": "realistic-lawsuit",
   "metadata": {},
   "outputs": [
    {
     "data": {
      "text/plain": [
       "array([[5., 4., 0.],\n",
       "       [6., 1., 1.],\n",
       "       [6., 4., 1.],\n",
       "       [9., 9., 1.]])"
      ]
     },
     "execution_count": 69,
     "metadata": {},
     "output_type": "execute_result"
    }
   ],
   "source": [
    "# ge the tarnsposed of the existing array\n",
    "a.T"
   ]
  },
  {
   "cell_type": "markdown",
   "id": "adjacent-knife",
   "metadata": {},
   "source": [
    "## Stacking NumPy arrays horizantally and vertically\n",
    "\n",
    "Several arrays can be stacked together along different axes:"
   ]
  },
  {
   "cell_type": "code",
   "execution_count": 70,
   "id": "organized-cotton",
   "metadata": {},
   "outputs": [
    {
     "data": {
      "text/plain": [
       "array([[0, 0, 0, 1, 1, 1],\n",
       "       [0, 0, 0, 1, 1, 1],\n",
       "       [0, 0, 0, 1, 1, 1]])"
      ]
     },
     "execution_count": 70,
     "metadata": {},
     "output_type": "execute_result"
    }
   ],
   "source": [
    "# create a 3x3 array of 0's\n",
    "a = np.zeros(9, dtype=int).reshape(3, 3)\n",
    "# create a 3x3 array of 1's\n",
    "b = np.ones(9, dtype=int).reshape(3, 3)\n",
    "\n",
    "# stack a and b horizantally\n",
    "hor = np.hstack((a, b))\n",
    "hor\n"
   ]
  },
  {
   "cell_type": "code",
   "execution_count": 73,
   "id": "forty-tractor",
   "metadata": {},
   "outputs": [
    {
     "data": {
      "text/plain": [
       "array([[0, 0, 0],\n",
       "       [0, 0, 0],\n",
       "       [0, 0, 0],\n",
       "       [1, 1, 1],\n",
       "       [1, 1, 1],\n",
       "       [1, 1, 1]])"
      ]
     },
     "execution_count": 73,
     "metadata": {},
     "output_type": "execute_result"
    }
   ],
   "source": [
    "# stack a and b vertically\n",
    "ver = np.vstack((a, b))\n",
    "ver"
   ]
  },
  {
   "cell_type": "code",
   "execution_count": 75,
   "id": "medium-registration",
   "metadata": {},
   "outputs": [
    {
     "data": {
      "text/plain": [
       "True"
      ]
     },
     "execution_count": 75,
     "metadata": {},
     "output_type": "execute_result"
    }
   ],
   "source": [
    "# similarly, row_stack and comlumn stack can be used to stack into 2D arrays\n",
    "r_stack = np.row_stack((a, b))\n",
    "c_stack = np.column_stack((a, b))\n",
    "\n",
    "\n",
    "# check if the row_stack and np.vstack are similar\n",
    "np.row_stack is np.vstack"
   ]
  },
  {
   "cell_type": "markdown",
   "id": "smoking-neighborhood",
   "metadata": {},
   "source": [
    "## Splitting one array into several smaller ones\n",
    "Using *hsplit*, you can split an array along its horizontal axis, either by specifying the number of equally shaped arrays to return, or by specifying the columns after which the division should occur:"
   ]
  },
  {
   "cell_type": "code",
   "execution_count": 78,
   "id": "after-maker",
   "metadata": {},
   "outputs": [
    {
     "name": "stdout",
     "output_type": "stream",
     "text": [
      "[[1. 1. 1.]\n",
      " [1. 1. 1.]\n",
      " [1. 1. 1.]]\n",
      "\n",
      "[[1.]\n",
      " [1.]\n",
      " [1.]]\n",
      "\n",
      "[[1.]\n",
      " [1.]\n",
      " [1.]]\n",
      "\n",
      "[[1.]\n",
      " [1.]\n",
      " [1.]]\n",
      "\n"
     ]
    }
   ],
   "source": [
    "# use hsplit or vsplit\n",
    "a = np.ones(9).reshape(3, 3)\n",
    "\n",
    "a_1, a_2, a_3 = np.hsplit(a, 3)\n",
    "print(a, end='\\n\\n')\n",
    "print(a_1, end='\\n\\n')\n",
    "print(a_2, end='\\n\\n')\n",
    "print(a_3, end='\\n\\n')"
   ]
  },
  {
   "cell_type": "code",
   "execution_count": null,
   "id": "boxed-entry",
   "metadata": {},
   "outputs": [],
   "source": []
  }
 ],
 "metadata": {
  "kernelspec": {
   "display_name": "Python 3",
   "language": "python",
   "name": "python3"
  },
  "language_info": {
   "codemirror_mode": {
    "name": "ipython",
    "version": 3
   },
   "file_extension": ".py",
   "mimetype": "text/x-python",
   "name": "python",
   "nbconvert_exporter": "python",
   "pygments_lexer": "ipython3",
   "version": "3.9.5"
  }
 },
 "nbformat": 4,
 "nbformat_minor": 5
}
