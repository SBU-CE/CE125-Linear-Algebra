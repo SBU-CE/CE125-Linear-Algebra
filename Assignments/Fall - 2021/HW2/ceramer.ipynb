{
  "nbformat": 4,
  "nbformat_minor": 0,
  "metadata": {
    "colab": {
      "name": "Untitled2.ipynb",
      "provenance": [],
      "collapsed_sections": []
    },
    "kernelspec": {
      "name": "python3",
      "display_name": "Python 3"
    },
    "language_info": {
      "name": "python"
    }
  },
  "cells": [
    {
      "cell_type": "code",
      "metadata": {
        "id": "a2JdKHTk-d4M"
      },
      "source": [
        "import time\n",
        "import re\n",
        "import numpy as np"
      ],
      "execution_count": null,
      "outputs": []
    },
    {
      "cell_type": "code",
      "metadata": {
        "id": "gy38H6Ef2lnI"
      },
      "source": [
        "def parse_equations(num_variables: int, equations: list) -> tuple:\n",
        "    variables = re.findall(r\"[a-zA-Z]+\", equations[0])\n",
        "\n",
        "    coefitients = np.zeros(shape = (num_variables, num_variables), dtype = np.float32)\n",
        "    constants   = np.zeros(shape = (num_variables,), dtype = np.float32)\n",
        "\n",
        "    for index, equation in enumerate(equations):\n",
        "        equation = equation.replace(\" \", \"\")\n",
        "        numbers  = re.findall(r\"[+-]? *(?:\\d+(?:\\.\\d*)?|\\.\\d+)(?:[eE][+-]?\\d+)?\", equation)\n",
        "        \n",
        "        threshold = len(numbers)\n",
        "        coefitients[index] = numbers[: threshold - 1]\n",
        "        constants[index]   = numbers[threshold - 1]\n",
        "\n",
        "    return variables, coefitients, constants"
      ],
      "execution_count": null,
      "outputs": []
    },
    {
      "cell_type": "code",
      "metadata": {
        "id": "GLUgTv6ACeDj"
      },
      "source": [
        "def apply_carmer_rule(variables: list, coefitients: np.array, constants: np.array) -> np.array:\n",
        "    print(\"-\"*30)\n",
        "    \n",
        "    denominator = np.linalg.det(coefitients)\n",
        "    if denominator == 0:\n",
        "        print(\"Unsolvable\")\n",
        "        return None\n",
        "\n",
        "    results = list()\n",
        "    for index, variable in enumerate(variables):\n",
        "        copy_coef = np.copy(coefitients)\n",
        "        copy_coef[:, index] = constants\n",
        "        numerator = np.linalg.det(copy_coef)\n",
        "\n",
        "        result = numerator / denominator\n",
        "        print(f\"{variable} = {result}\")\n",
        "        results.append(result)\n",
        "    \n",
        "    return np.array(results)"
      ],
      "execution_count": null,
      "outputs": []
    },
    {
      "cell_type": "code",
      "metadata": {
        "colab": {
          "base_uri": "https://localhost:8080/"
        },
        "id": "_KTgPaHO25-h",
        "outputId": "ec2779ca-0393-48b1-b551-ecaecd2d1a4e"
      },
      "source": [
        "num_variables = int(input(\"Enter number of variables: \"))\n",
        "\n",
        "equations = list()\n",
        "for _ in range(num_variables):\n",
        "    equations.append(input())\n",
        "\n",
        "variables, coefitients, constants = parse_equations(num_variables, equations)\n",
        "_ = apply_carmer_rule(variables, coefitients, constants)"
      ],
      "execution_count": null,
      "outputs": [
        {
          "output_type": "stream",
          "name": "stdout",
          "text": [
            "Enter number of variables: 4\n",
            "1a + 1b + 2c + 3.5d = 10\n",
            "2a - 1b + 5c + 4.5d = 20\n",
            "-4a + 12.5b + 7c + 8d = 2\n",
            "1a + 6.5b - 8c - 4d = 5\n",
            "------------------------------\n",
            "a = 7.5235676765441895\n",
            "b = 1.9731978178024292\n",
            "c = 2.5854897499084473\n",
            "d = -1.3336414098739624\n"
          ]
        }
      ]
    }
  ]
}