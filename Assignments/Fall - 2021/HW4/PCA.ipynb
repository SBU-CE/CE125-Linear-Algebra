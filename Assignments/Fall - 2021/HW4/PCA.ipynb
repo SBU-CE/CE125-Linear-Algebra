{
 "cells": [
  {
   "cell_type": "markdown",
   "id": "7fbbf85b",
   "metadata": {},
   "source": [
    "# Mohammd Shabani\n",
    "## 99243044\n",
    "                 "
   ]
  },
  {
   "cell_type": "markdown",
   "id": "f639eaca",
   "metadata": {},
   "source": [
    "### question 5"
   ]
  },
  {
   "cell_type": "code",
   "execution_count": 37,
   "id": "50180e35",
   "metadata": {},
   "outputs": [
    {
     "data": {
      "image/png": "[encoded data removed]",
      "text/plain": [
       "<Figure size 432x288 with 1 Axes>"
      ]
     },
     "metadata": {
      "needs_background": "light"
     },
     "output_type": "display_data"
    }
   ],
   "source": [
    "import numpy as np\n",
    "import matplotlib.pyplot as pt\n",
    "import math\n",
    "\n",
    "data = np.array([[2, 1], [3, 5], [4, 3], [5, 6], [6, 7], [7, 8]], float)\n",
    "\n",
    "pt.scatter(data[:, 0], data[:, 1])\n",
    "pt.grid()\n",
    "pt.show()"
   ]
  },
  {
   "cell_type": "markdown",
   "id": "46ddd2da",
   "metadata": {},
   "source": [
    "#### at the first we will find the mean "
   ]
  },
  {
   "cell_type": "code",
   "execution_count": 48,
   "id": "e3f68b82",
   "metadata": {},
   "outputs": [
    {
     "data": {
      "image/png": "[encoded data removed]",
      "text/plain": [
       "<Figure size 432x288 with 1 Axes>"
      ]
     },
     "metadata": {
      "needs_background": "light"
     },
     "output_type": "display_data"
    }
   ],
   "source": [
    "sumx = data[:, 0].sum()\n",
    "sumy = data[:, 1].sum()\n",
    "meanx = sumx / data.shape[0]\n",
    "meany = sumy / data.shape[0]\n",
    "data[:, 0] -= meanx\n",
    "data[:, 1] -= meany\n",
    "pt.scatter(data[:, 0], data[:, 1])\n",
    "pt.grid()\n",
    "pt.show()"
   ]
  },
  {
   "cell_type": "markdown",
   "id": "abccae0d",
   "metadata": {},
   "source": [
    "<div dir='rtl'>\n",
    "    با توجه به شکل مشخص است که خط نهایی شیبی مثبت خواهد داشت. پس اگر زاویه بین خط و محور ایکسها را تتا در نظر بگیریم با تغییر تتا بین صفر و پی میتوانیم خط مذکور را بیابیم\n",
    "</div>"
   ]
  },
  {
   "cell_type": "code",
   "execution_count": 78,
   "id": "c5696403",
   "metadata": {},
   "outputs": [
    {
     "name": "stdout",
     "output_type": "stream",
     "text": [
      "slope of line is : 0.6934661879719021\n"
     ]
    },
    {
     "data": {
      "image/png": "[encoded data removed]",
      "text/plain": [
       "<Figure size 432x288 with 1 Axes>"
      ]
     },
     "metadata": {
      "needs_background": "light"
     },
     "output_type": "display_data"
    }
   ],
   "source": [
    "# ino az stackoverflow peyda kardam :)\n",
    "def point_on_line(a, b, p):\n",
    "    ap = p - a\n",
    "    ab = b - a\n",
    "    result = a + np.dot(ap, ab) / np.dot(ab, ab) * ab\n",
    "    return result\n",
    "\n",
    "teta = math.pi / 2\n",
    "finalTeta = math.pi / 2\n",
    "\n",
    "max = 0\n",
    "accurate = 1000\n",
    "for i in range(accurate):\n",
    "    a = np.array([0, 0])  \n",
    "    b = np.array([math.sin(teta), math.cos(teta)])\n",
    "    tmp = np.array([point_on_line(a, b, dot) for dot in data])\n",
    "    newSS = (tmp[:, 0] ** 2).sum() + (tmp[:, 1] ** 2).sum()\n",
    "    if newSS > max:\n",
    "        max = newSS\n",
    "        finalTeta = teta\n",
    "    else:\n",
    "        break\n",
    "        \n",
    "    teta -= math.pi / (2 * accurate)\n",
    "\n",
    "pt.scatter(data[:, 0], data[:, 1])\n",
    "pt.plot([i for i in range(-4, 4)], [(1 / math.tan(finalTeta)) * i for i in range(-4, 4)], color=\"red\")\n",
    "pt.grid()\n",
    "print(\"slope of line is : \" + str(math.tan(finalTeta)))\n",
    "pt.show()\n"
   ]
  }
 ],
 "metadata": {
  "kernelspec": {
   "display_name": "Python 3 (ipykernel)",
   "language": "python",
   "name": "python3"
  },
  "language_info": {
   "codemirror_mode": {
    "name": "ipython",
    "version": 3
   },
   "file_extension": ".py",
   "mimetype": "text/x-python",
   "name": "python",
   "nbconvert_exporter": "python",
   "pygments_lexer": "ipython3",
   "version": "3.9.5"
  }
 },
 "nbformat": 4,
 "nbformat_minor": 5
}
