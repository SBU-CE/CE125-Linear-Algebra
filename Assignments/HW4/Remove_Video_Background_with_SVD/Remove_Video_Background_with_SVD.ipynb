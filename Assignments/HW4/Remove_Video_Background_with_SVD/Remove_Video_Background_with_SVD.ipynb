{
 "cells": [
  {
   "cell_type": "markdown",
   "id": "organizational-radio",
   "metadata": {},
   "source": [
    "# Remove Background with SVD\n",
    "\n",
    "This is the **fourth assignment** of the Linear Algebra course of **Shahid Beheshti University**. In this assignment, we are going to take advantage of the SVD decomposition in a computer vision task. The aim of this notebook, is to write a program to split the background and the foreground of an arbitrary video clip in a nice way.\n",
    "\n",
    "Follow the steps bellow, some functions are needed to be completed. So just try to fill the blanks and not editing other parts.\n",
    "\n",
    "**Note:** Make sure to sequentially run all the cells, so that the intermediate variables / packages will carry over to the next cell. "
   ]
  },
  {
   "cell_type": "markdown",
   "id": "miniature-egyptian",
   "metadata": {},
   "source": [
    "## 0. Download the source video\n",
    "\n",
    "Firstly, download the video clip from https://www.videezy.com/water/1786-rower-stock-video. Put this video beside this notebook. Also note that it must be named as `RowerWeedonIsland.MTS`."
   ]
  },
  {
   "cell_type": "markdown",
   "id": "possible-dining",
   "metadata": {},
   "source": [
    "### 1. Install useful packages\n",
    "\n",
    "There are some Python packages which you may need to install on your system. Use `pip install X` or `conda install X` to install the packages."
   ]
  },
  {
   "cell_type": "code",
   "execution_count": 195,
   "id": "unable-rouge",
   "metadata": {},
   "outputs": [],
   "source": [
    "import numpy as np\n",
    "import scipy\n",
    "from PIL import Image\n",
    "import imageio\n",
    "import moviepy.editor as mpe\n",
    "from moviepy.video.io.bindings import mplfig_to_npimage\n",
    "import matplotlib.pyplot as plt\n",
    "%matplotlib inline"
   ]
  },
  {
   "cell_type": "markdown",
   "id": "public-influence",
   "metadata": {},
   "source": [
    "## 2. Create Matrix M"
   ]
  },
  {
   "cell_type": "code",
   "execution_count": 200,
   "id": "geographic-antibody",
   "metadata": {},
   "outputs": [
    {
     "name": "stdout",
     "output_type": "stream",
     "text": [
      "Video size: [1440, 1080]\n",
      "Video duration: 57.09\n"
     ]
    }
   ],
   "source": [
    "video = mpe.VideoFileClip(\"RowerWeedonIsland.MTS\")\n",
    "video_W, video_H = video.size\n",
    "\n",
    "print(\"Video size: {}\".format(video.size))\n",
    "print(\"Video duration: {}\".format(video.duration))"
   ]
  },
  {
   "cell_type": "markdown",
   "id": "empty-classics",
   "metadata": {},
   "source": [
    "### Q1. How should we create matrix M?\n",
    "\n",
    "As we know from the instructions taught in the class, SVD decomposition algortihm takes a $M (mxn)$ matrix and convert it to $UΣV^T$.\n",
    "\n",
    "How do we define the $M$ matrix in order to address the problem of removing the video background? You must say what are the rows and columns of the matrix $M$.\n",
    "\n",
    "**Important Note:** For answering this question, insert a cell (Markdown) next to this cell and type your answer."
   ]
  },
  {
   "cell_type": "markdown",
   "id": "concrete-daily",
   "metadata": {},
   "source": [
    "### Q2. Matrix M!\n",
    "\n",
    "You have to fill the function `create_data_matrix_from_video()` in order to create the M matrix. Read the function doc carefully!"
   ]
  },
  {
   "cell_type": "code",
   "execution_count": 197,
   "id": "related-rover",
   "metadata": {},
   "outputs": [],
   "source": [
    "def create_data_matrix_from_video(clip, dims, fps=5):\n",
    "    '''\n",
    "        A function to create the matrix M from the video.\n",
    "        \n",
    "        args:\n",
    "            clip: Video\n",
    "            dims: the dimension of desired video\n",
    "            fps: an integer which indicates the frame per second(fps)\n",
    "            \n",
    "        returns:\n",
    "            M : a numpy array of size (m, n)\n",
    "            \n",
    "            \n",
    "        Follow the steps bellow:\n",
    "        1. Implement a for loop with `fps*int(clip.duration)` iterations\n",
    "        2. get the frame at i/float(fps) position\n",
    "        3. convert the frame from RGB to gray scale\n",
    "        4. resize the frame to dims\n",
    "        5. append to a list\n",
    "    '''\n",
    "    M = None\n",
    "    ############## YOUR CODE HERE ##############\n",
    "    \n",
    "    \n",
    "    ############################################\n",
    "    \n",
    "    return M"
   ]
  },
  {
   "cell_type": "code",
   "execution_count": null,
   "id": "falling-duration",
   "metadata": {},
   "outputs": [],
   "source": [
    "scale = 0.10   # Adjust scale to change resolution of image\n",
    "dims = (int(video_W * scale), int(video_H * scale))\n",
    "fps = 10      # frames per second\n",
    "\n",
    "# this may take a few secs to run\n",
    "M = create_data_matrix_from_video(video.subclip(0, 100), dims, fps)\n",
    "\n",
    "print(\"New dimensions: {}\".format(dims))\n",
    "print(\"Matrix M shape: {}\".format(M.shape))"
   ]
  },
  {
   "cell_type": "markdown",
   "id": "encouraging-conservative",
   "metadata": {},
   "source": [
    "### Q3. Plot the 10th columns of matrix M as an image (2D array)!"
   ]
  },
  {
   "cell_type": "code",
   "execution_count": 202,
   "id": "bored-jackson",
   "metadata": {},
   "outputs": [],
   "source": [
    "############## YOUR CODE HERE ##############\n",
    "# ~ 1 line code \n",
    "    \n",
    "############################################"
   ]
  },
  {
   "cell_type": "markdown",
   "id": "fuzzy-magnet",
   "metadata": {},
   "source": [
    "## 3. SVD calculation\n",
    "\n",
    "In this part, we are going to use the `numpy.linalg.svd()` to compute the SVD decomposition of matrix M.\n",
    "\n",
    "Then create the `low_rank` matrix with $Rank = 1$. (Details have taught in the TA class.)"
   ]
  },
  {
   "cell_type": "markdown",
   "id": "referenced-paper",
   "metadata": {},
   "source": [
    "### Q4. Obtain `U`, `S`, `VT`, and `low_rank` matrices"
   ]
  },
  {
   "cell_type": "code",
   "execution_count": 203,
   "id": "collectible-reform",
   "metadata": {},
   "outputs": [],
   "source": [
    "U, S, VT = None, None, None\n",
    "low_rank = None\n",
    "############## YOUR CODE HERE ##############\n",
    "    \n",
    "############################################"
   ]
  },
  {
   "cell_type": "markdown",
   "id": "former-robertson",
   "metadata": {},
   "source": [
    "### Q5. Plot the background and foreground(moving part).\n",
    "\n",
    "After SVD computation, we can use the `low_rank` matrix to see the background of the image. You must plot the first frame of the `low_rank` matrix.\n",
    "\n",
    "**Hint**: plot `low_rank[:, 0]` for background and `M[:, 0] - low_rank[:, 0]` for moving part."
   ]
  },
  {
   "cell_type": "code",
   "execution_count": 204,
   "id": "public-message",
   "metadata": {},
   "outputs": [],
   "source": [
    "############## YOUR CODE HERE ##############\n",
    "# plot background\n",
    "\n",
    "# plot moving part\n",
    "    \n",
    "############################################"
   ]
  },
  {
   "cell_type": "markdown",
   "id": "moving-karen",
   "metadata": {},
   "source": [
    "### Q6. Make some videos!\n",
    "\n",
    "Use the `low_rank` matrix and `make_video()` function to create two videos.\n",
    "1. Background video: `background.mp4`\n",
    "2. Moving part: `moving_part.mp4`\n",
    "\n",
    "\n",
    "**These two video must exit beside this notebook.**\n"
   ]
  },
  {
   "cell_type": "code",
   "execution_count": 187,
   "id": "worthy-sunset",
   "metadata": {},
   "outputs": [],
   "source": [
    "def make_video(matrix, dims, filename):\n",
    "    mat_reshaped = np.reshape(matrix, (dims[0], dims[1], -1))\n",
    "    \n",
    "    fig, ax = plt.subplots()\n",
    "    def make_frame(t):\n",
    "        ax.clear()\n",
    "        ax.imshow(mat_reshaped[...,int(t*fps)])\n",
    "        return mplfig_to_npimage(fig)\n",
    "    \n",
    "    animation = mpe.VideoClip(make_frame, duration=int(10))\n",
    "    animation.write_videofile(filename + '.mp4', fps=fps)"
   ]
  },
  {
   "cell_type": "code",
   "execution_count": null,
   "id": "fifteen-planning",
   "metadata": {},
   "outputs": [],
   "source": [
    "############## YOUR CODE HERE ##############\n",
    "    \n",
    "############################################"
   ]
  },
  {
   "cell_type": "markdown",
   "id": "comfortable-muscle",
   "metadata": {},
   "source": [
    "## 4. Submission\n",
    "\n",
    "Please read the notes here carefully:\n",
    "\n",
    "1. The outputs of the codes must be remained the notebook. If not, you will lose points.\n",
    "2. You must **only** upload  **3 files**:\n",
    "\n",
    "    - `Remove_Video_Background_with_SVD.ipynb`\n",
    "    - `moving_part.mp4`\n",
    "    - `background.mp4`\n",
    "    \n",
    "    \n",
    "In case you have any questions, contact **mohammad99hashemi@gmail.com**"
   ]
  }
 ],
 "metadata": {
  "kernelspec": {
   "display_name": "Python 3",
   "language": "python",
   "name": "python3"
  },
  "language_info": {
   "codemirror_mode": {
    "name": "ipython",
    "version": 3
   },
   "file_extension": ".py",
   "mimetype": "text/x-python",
   "name": "python",
   "nbconvert_exporter": "python",
   "pygments_lexer": "ipython3",
   "version": "3.9.5"
  }
 },
 "nbformat": 4,
 "nbformat_minor": 5
}
